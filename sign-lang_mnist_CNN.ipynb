{
 "cells": [
  {
   "cell_type": "code",
   "execution_count": 1,
   "metadata": {
    "colab": {
     "base_uri": "https://localhost:8080/",
     "height": 85
    },
    "colab_type": "code",
    "executionInfo": {
     "elapsed": 2853,
     "status": "ok",
     "timestamp": 1576874943687,
     "user": {
      "displayName": "GAURAV PATEL",
      "photoUrl": "",
      "userId": "12684871314975558822"
     },
     "user_tz": -330
    },
    "id": "8zUbRPKrEHY0",
    "outputId": "08a0b106-482a-4a5a-89f0-1a68a4426103"
   },
   "outputs": [
    {
     "name": "stderr",
     "output_type": "stream",
     "text": [
      "Using TensorFlow backend.\n"
     ]
    }
   ],
   "source": [
    "import pandas as pd\n",
    "import numpy as np\n",
    "import matplotlib.pyplot as plt\n",
    "from keras.models import Sequential, load_model\n",
    "from keras.layers import MaxPooling2D, Conv2D, Flatten, Dropout, Dense\n",
    "from keras.utils import to_categorical\n",
    "from keras import optimizers\n",
    "%matplotlib inline"
   ]
  },
  {
   "cell_type": "code",
   "execution_count": 2,
   "metadata": {
    "colab": {},
    "colab_type": "code",
    "id": "NeAjWv_VEfMB"
   },
   "outputs": [],
   "source": [
    "dftrain = pd.read_csv('sign_mnist_train.csv')"
   ]
  },
  {
   "cell_type": "code",
   "execution_count": 3,
   "metadata": {
    "colab": {
     "base_uri": "https://localhost:8080/",
     "height": 180
    },
    "colab_type": "code",
    "executionInfo": {
     "elapsed": 5428,
     "status": "error",
     "timestamp": 1576875033323,
     "user": {
      "displayName": "GAURAV PATEL",
      "photoUrl": "",
      "userId": "12684871314975558822"
     },
     "user_tz": -330
    },
    "id": "2kNyU7TsEoIw",
    "outputId": "a81815aa-544b-4a61-fec2-8c1bf04f0039"
   },
   "outputs": [
    {
     "data": {
      "text/html": [
       "<div>\n",
       "<style scoped>\n",
       "    .dataframe tbody tr th:only-of-type {\n",
       "        vertical-align: middle;\n",
       "    }\n",
       "\n",
       "    .dataframe tbody tr th {\n",
       "        vertical-align: top;\n",
       "    }\n",
       "\n",
       "    .dataframe thead th {\n",
       "        text-align: right;\n",
       "    }\n",
       "</style>\n",
       "<table border=\"1\" class=\"dataframe\">\n",
       "  <thead>\n",
       "    <tr style=\"text-align: right;\">\n",
       "      <th></th>\n",
       "      <th>label</th>\n",
       "      <th>pixel1</th>\n",
       "      <th>pixel2</th>\n",
       "      <th>pixel3</th>\n",
       "      <th>pixel4</th>\n",
       "      <th>pixel5</th>\n",
       "      <th>pixel6</th>\n",
       "      <th>pixel7</th>\n",
       "      <th>pixel8</th>\n",
       "      <th>pixel9</th>\n",
       "      <th>...</th>\n",
       "      <th>pixel775</th>\n",
       "      <th>pixel776</th>\n",
       "      <th>pixel777</th>\n",
       "      <th>pixel778</th>\n",
       "      <th>pixel779</th>\n",
       "      <th>pixel780</th>\n",
       "      <th>pixel781</th>\n",
       "      <th>pixel782</th>\n",
       "      <th>pixel783</th>\n",
       "      <th>pixel784</th>\n",
       "    </tr>\n",
       "  </thead>\n",
       "  <tbody>\n",
       "    <tr>\n",
       "      <th>0</th>\n",
       "      <td>3</td>\n",
       "      <td>107</td>\n",
       "      <td>118</td>\n",
       "      <td>127</td>\n",
       "      <td>134</td>\n",
       "      <td>139</td>\n",
       "      <td>143</td>\n",
       "      <td>146</td>\n",
       "      <td>150</td>\n",
       "      <td>153</td>\n",
       "      <td>...</td>\n",
       "      <td>207</td>\n",
       "      <td>207</td>\n",
       "      <td>207</td>\n",
       "      <td>207</td>\n",
       "      <td>206</td>\n",
       "      <td>206</td>\n",
       "      <td>206</td>\n",
       "      <td>204</td>\n",
       "      <td>203</td>\n",
       "      <td>202</td>\n",
       "    </tr>\n",
       "    <tr>\n",
       "      <th>1</th>\n",
       "      <td>6</td>\n",
       "      <td>155</td>\n",
       "      <td>157</td>\n",
       "      <td>156</td>\n",
       "      <td>156</td>\n",
       "      <td>156</td>\n",
       "      <td>157</td>\n",
       "      <td>156</td>\n",
       "      <td>158</td>\n",
       "      <td>158</td>\n",
       "      <td>...</td>\n",
       "      <td>69</td>\n",
       "      <td>149</td>\n",
       "      <td>128</td>\n",
       "      <td>87</td>\n",
       "      <td>94</td>\n",
       "      <td>163</td>\n",
       "      <td>175</td>\n",
       "      <td>103</td>\n",
       "      <td>135</td>\n",
       "      <td>149</td>\n",
       "    </tr>\n",
       "    <tr>\n",
       "      <th>2</th>\n",
       "      <td>2</td>\n",
       "      <td>187</td>\n",
       "      <td>188</td>\n",
       "      <td>188</td>\n",
       "      <td>187</td>\n",
       "      <td>187</td>\n",
       "      <td>186</td>\n",
       "      <td>187</td>\n",
       "      <td>188</td>\n",
       "      <td>187</td>\n",
       "      <td>...</td>\n",
       "      <td>202</td>\n",
       "      <td>201</td>\n",
       "      <td>200</td>\n",
       "      <td>199</td>\n",
       "      <td>198</td>\n",
       "      <td>199</td>\n",
       "      <td>198</td>\n",
       "      <td>195</td>\n",
       "      <td>194</td>\n",
       "      <td>195</td>\n",
       "    </tr>\n",
       "    <tr>\n",
       "      <th>3</th>\n",
       "      <td>2</td>\n",
       "      <td>211</td>\n",
       "      <td>211</td>\n",
       "      <td>212</td>\n",
       "      <td>212</td>\n",
       "      <td>211</td>\n",
       "      <td>210</td>\n",
       "      <td>211</td>\n",
       "      <td>210</td>\n",
       "      <td>210</td>\n",
       "      <td>...</td>\n",
       "      <td>235</td>\n",
       "      <td>234</td>\n",
       "      <td>233</td>\n",
       "      <td>231</td>\n",
       "      <td>230</td>\n",
       "      <td>226</td>\n",
       "      <td>225</td>\n",
       "      <td>222</td>\n",
       "      <td>229</td>\n",
       "      <td>163</td>\n",
       "    </tr>\n",
       "    <tr>\n",
       "      <th>4</th>\n",
       "      <td>13</td>\n",
       "      <td>164</td>\n",
       "      <td>167</td>\n",
       "      <td>170</td>\n",
       "      <td>172</td>\n",
       "      <td>176</td>\n",
       "      <td>179</td>\n",
       "      <td>180</td>\n",
       "      <td>184</td>\n",
       "      <td>185</td>\n",
       "      <td>...</td>\n",
       "      <td>92</td>\n",
       "      <td>105</td>\n",
       "      <td>105</td>\n",
       "      <td>108</td>\n",
       "      <td>133</td>\n",
       "      <td>163</td>\n",
       "      <td>157</td>\n",
       "      <td>163</td>\n",
       "      <td>164</td>\n",
       "      <td>179</td>\n",
       "    </tr>\n",
       "  </tbody>\n",
       "</table>\n",
       "<p>5 rows × 785 columns</p>\n",
       "</div>"
      ],
      "text/plain": [
       "   label  pixel1  pixel2  pixel3  pixel4  pixel5  pixel6  pixel7  pixel8  \\\n",
       "0      3     107     118     127     134     139     143     146     150   \n",
       "1      6     155     157     156     156     156     157     156     158   \n",
       "2      2     187     188     188     187     187     186     187     188   \n",
       "3      2     211     211     212     212     211     210     211     210   \n",
       "4     13     164     167     170     172     176     179     180     184   \n",
       "\n",
       "   pixel9  ...  pixel775  pixel776  pixel777  pixel778  pixel779  pixel780  \\\n",
       "0     153  ...       207       207       207       207       206       206   \n",
       "1     158  ...        69       149       128        87        94       163   \n",
       "2     187  ...       202       201       200       199       198       199   \n",
       "3     210  ...       235       234       233       231       230       226   \n",
       "4     185  ...        92       105       105       108       133       163   \n",
       "\n",
       "   pixel781  pixel782  pixel783  pixel784  \n",
       "0       206       204       203       202  \n",
       "1       175       103       135       149  \n",
       "2       198       195       194       195  \n",
       "3       225       222       229       163  \n",
       "4       157       163       164       179  \n",
       "\n",
       "[5 rows x 785 columns]"
      ]
     },
     "execution_count": 3,
     "metadata": {},
     "output_type": "execute_result"
    }
   ],
   "source": [
    "dftrain.head()"
   ]
  },
  {
   "cell_type": "code",
   "execution_count": 4,
   "metadata": {
    "colab": {
     "base_uri": "https://localhost:8080/",
     "height": 180
    },
    "colab_type": "code",
    "executionInfo": {
     "elapsed": 1524,
     "status": "error",
     "timestamp": 1576875051626,
     "user": {
      "displayName": "GAURAV PATEL",
      "photoUrl": "",
      "userId": "12684871314975558822"
     },
     "user_tz": -330
    },
    "id": "6oYPOXoKE2yr",
    "outputId": "2fe150d2-91f8-44bb-99ba-85e4cfd7b0cd"
   },
   "outputs": [],
   "source": [
    "train = np.array(dftrain)"
   ]
  },
  {
   "cell_type": "code",
   "execution_count": 5,
   "metadata": {
    "colab": {
     "base_uri": "https://localhost:8080/",
     "height": 180
    },
    "colab_type": "code",
    "executionInfo": {
     "elapsed": 1272,
     "status": "error",
     "timestamp": 1576875062491,
     "user": {
      "displayName": "GAURAV PATEL",
      "photoUrl": "",
      "userId": "12684871314975558822"
     },
     "user_tz": -330
    },
    "id": "8l30ZEkxE8NU",
    "outputId": "562a6b61-2e2b-4cdf-c387-28b6b8d2968a"
   },
   "outputs": [
    {
     "data": {
      "text/plain": [
       "(27455, 785)"
      ]
     },
     "execution_count": 5,
     "metadata": {},
     "output_type": "execute_result"
    }
   ],
   "source": [
    "train.shape"
   ]
  },
  {
   "cell_type": "code",
   "execution_count": 6,
   "metadata": {
    "colab": {
     "base_uri": "https://localhost:8080/",
     "height": 180
    },
    "colab_type": "code",
    "executionInfo": {
     "elapsed": 1211,
     "status": "error",
     "timestamp": 1576875072322,
     "user": {
      "displayName": "GAURAV PATEL",
      "photoUrl": "",
      "userId": "12684871314975558822"
     },
     "user_tz": -330
    },
    "id": "KyBe58ZOE-6_",
    "outputId": "8cab5980-58a4-4999-eb71-fcdb787c8946"
   },
   "outputs": [],
   "source": [
    "train = train[:,1:]"
   ]
  },
  {
   "cell_type": "code",
   "execution_count": 7,
   "metadata": {
    "colab": {
     "base_uri": "https://localhost:8080/",
     "height": 180
    },
    "colab_type": "code",
    "executionInfo": {
     "elapsed": 1963,
     "status": "error",
     "timestamp": 1576875084792,
     "user": {
      "displayName": "GAURAV PATEL",
      "photoUrl": "",
      "userId": "12684871314975558822"
     },
     "user_tz": -330
    },
    "id": "GOYzC89VFBW5",
    "outputId": "04bc93de-6467-4581-a2b3-b7b4b720992c"
   },
   "outputs": [
    {
     "data": {
      "text/plain": [
       "(27455, 784)"
      ]
     },
     "execution_count": 7,
     "metadata": {},
     "output_type": "execute_result"
    }
   ],
   "source": [
    "train.shape"
   ]
  },
  {
   "cell_type": "code",
   "execution_count": 8,
   "metadata": {
    "colab": {
     "base_uri": "https://localhost:8080/",
     "height": 180
    },
    "colab_type": "code",
    "executionInfo": {
     "elapsed": 1367,
     "status": "error",
     "timestamp": 1576875096820,
     "user": {
      "displayName": "GAURAV PATEL",
      "photoUrl": "",
      "userId": "12684871314975558822"
     },
     "user_tz": -330
    },
    "id": "EJZk2NZ3FEOY",
    "outputId": "3ea43849-04e4-4171-b541-82a1fbcda898"
   },
   "outputs": [],
   "source": [
    "train = train/255"
   ]
  },
  {
   "cell_type": "code",
   "execution_count": 9,
   "metadata": {
    "colab": {
     "base_uri": "https://localhost:8080/",
     "height": 180
    },
    "colab_type": "code",
    "executionInfo": {
     "elapsed": 2876,
     "status": "error",
     "timestamp": 1576875105931,
     "user": {
      "displayName": "GAURAV PATEL",
      "photoUrl": "",
      "userId": "12684871314975558822"
     },
     "user_tz": -330
    },
    "id": "SYD4IKToFHTS",
    "outputId": "68accfa7-000e-431e-e126-cb80afca2017"
   },
   "outputs": [
    {
     "data": {
      "text/plain": [
       "array([[0.41960784, 0.4627451 , 0.49803922, ..., 0.8       , 0.79607843,\n",
       "        0.79215686],\n",
       "       [0.60784314, 0.61568627, 0.61176471, ..., 0.40392157, 0.52941176,\n",
       "        0.58431373],\n",
       "       [0.73333333, 0.7372549 , 0.7372549 , ..., 0.76470588, 0.76078431,\n",
       "        0.76470588],\n",
       "       ...,\n",
       "       [0.68235294, 0.68235294, 0.68235294, ..., 0.79215686, 0.78431373,\n",
       "        0.78431373],\n",
       "       [0.69411765, 0.70980392, 0.72156863, ..., 0.25098039, 0.34117647,\n",
       "        0.36470588],\n",
       "       [0.70196078, 0.70588235, 0.70588235, ..., 0.80392157, 0.81960784,\n",
       "        0.84313725]])"
      ]
     },
     "execution_count": 9,
     "metadata": {},
     "output_type": "execute_result"
    }
   ],
   "source": [
    "train"
   ]
  },
  {
   "cell_type": "code",
   "execution_count": 10,
   "metadata": {
    "colab": {
     "base_uri": "https://localhost:8080/",
     "height": 180
    },
    "colab_type": "code",
    "executionInfo": {
     "elapsed": 1457,
     "status": "error",
     "timestamp": 1576875116274,
     "user": {
      "displayName": "GAURAV PATEL",
      "photoUrl": "",
      "userId": "12684871314975558822"
     },
     "user_tz": -330
    },
    "id": "pUo0bBFMFJJ6",
    "outputId": "b324067c-5044-4536-dbb5-0d8ef5518eb6"
   },
   "outputs": [
    {
     "data": {
      "text/plain": [
       "<matplotlib.image.AxesImage at 0x27cb84c3048>"
      ]
     },
     "execution_count": 10,
     "metadata": {},
     "output_type": "execute_result"
    },
    {
     "data": {
      "image/png": "[encoded data removed]",
      "text/plain": [
       "<Figure size 432x288 with 1 Axes>"
      ]
     },
     "metadata": {
      "needs_background": "light"
     },
     "output_type": "display_data"
    }
   ],
   "source": [
    "plt.imshow(np.reshape(train[1,:],(28,28)),'gray')"
   ]
  },
  {
   "cell_type": "code",
   "execution_count": 11,
   "metadata": {
    "colab": {
     "base_uri": "https://localhost:8080/",
     "height": 180
    },
    "colab_type": "code",
    "executionInfo": {
     "elapsed": 1215,
     "status": "error",
     "timestamp": 1576875126774,
     "user": {
      "displayName": "GAURAV PATEL",
      "photoUrl": "",
      "userId": "12684871314975558822"
     },
     "user_tz": -330
    },
    "id": "tYUW1D22FMCV",
    "outputId": "b8edf93e-e802-42c6-f6be-8b2e7daeb9a1"
   },
   "outputs": [],
   "source": [
    "tr = np.reshape(train,(27455,28,28,1))"
   ]
  },
  {
   "cell_type": "code",
   "execution_count": 12,
   "metadata": {
    "colab": {
     "base_uri": "https://localhost:8080/",
     "height": 180
    },
    "colab_type": "code",
    "executionInfo": {
     "elapsed": 2022,
     "status": "error",
     "timestamp": 1576875143692,
     "user": {
      "displayName": "GAURAV PATEL",
      "photoUrl": "",
      "userId": "12684871314975558822"
     },
     "user_tz": -330
    },
    "id": "HXDgtu1dFOpi",
    "outputId": "62bf9931-aa32-4456-922c-ebcaa75d3d83"
   },
   "outputs": [
    {
     "data": {
      "text/plain": [
       "(27455, 28, 28, 1)"
      ]
     },
     "execution_count": 12,
     "metadata": {},
     "output_type": "execute_result"
    }
   ],
   "source": [
    "tr.shape"
   ]
  },
  {
   "cell_type": "code",
   "execution_count": 13,
   "metadata": {
    "colab": {
     "base_uri": "https://localhost:8080/",
     "height": 200
    },
    "colab_type": "code",
    "executionInfo": {
     "elapsed": 2144,
     "status": "error",
     "timestamp": 1576875171362,
     "user": {
      "displayName": "GAURAV PATEL",
      "photoUrl": "",
      "userId": "12684871314975558822"
     },
     "user_tz": -330
    },
    "id": "hegtmCxqFVbv",
    "outputId": "21409540-f5a7-4d35-daaa-74068543d05c"
   },
   "outputs": [],
   "source": [
    "X_train = tr\n",
    "Y_train = np.array(dftrain['label'])"
   ]
  },
  {
   "cell_type": "code",
   "execution_count": 14,
   "metadata": {
    "colab": {
     "base_uri": "https://localhost:8080/",
     "height": 180
    },
    "colab_type": "code",
    "executionInfo": {
     "elapsed": 1220,
     "status": "error",
     "timestamp": 1576875179003,
     "user": {
      "displayName": "GAURAV PATEL",
      "photoUrl": "",
      "userId": "12684871314975558822"
     },
     "user_tz": -330
    },
    "id": "xU8ou1HzFZU0",
    "outputId": "2c63f3a9-3bd6-44b7-badb-d16367c6a4dd"
   },
   "outputs": [
    {
     "data": {
      "text/plain": [
       "array([ 3,  6,  2, ..., 18, 17, 23], dtype=int64)"
      ]
     },
     "execution_count": 14,
     "metadata": {},
     "output_type": "execute_result"
    }
   ],
   "source": [
    "Y_train"
   ]
  },
  {
   "cell_type": "code",
   "execution_count": 15,
   "metadata": {
    "colab": {
     "base_uri": "https://localhost:8080/",
     "height": 180
    },
    "colab_type": "code",
    "executionInfo": {
     "elapsed": 1896,
     "status": "error",
     "timestamp": 1576875194287,
     "user": {
      "displayName": "GAURAV PATEL",
      "photoUrl": "",
      "userId": "12684871314975558822"
     },
     "user_tz": -330
    },
    "id": "0Chvm8onFbap",
    "outputId": "39946023-5d1c-4f50-e45b-da09190bfcac"
   },
   "outputs": [],
   "source": [
    "Y_train = to_categorical(Y_train)"
   ]
  },
  {
   "cell_type": "code",
   "execution_count": 16,
   "metadata": {
    "colab": {
     "base_uri": "https://localhost:8080/",
     "height": 180
    },
    "colab_type": "code",
    "executionInfo": {
     "elapsed": 2235,
     "status": "error",
     "timestamp": 1576875202102,
     "user": {
      "displayName": "GAURAV PATEL",
      "photoUrl": "",
      "userId": "12684871314975558822"
     },
     "user_tz": -330
    },
    "id": "GKkoOClQFe93",
    "outputId": "d149c3be-00a7-4efc-c65d-814202f9454d"
   },
   "outputs": [
    {
     "data": {
      "text/plain": [
       "array([[0., 0., 0., ..., 0., 0., 0.],\n",
       "       [0., 0., 0., ..., 0., 0., 0.],\n",
       "       [0., 0., 1., ..., 0., 0., 0.],\n",
       "       ...,\n",
       "       [0., 0., 0., ..., 0., 0., 0.],\n",
       "       [0., 0., 0., ..., 0., 0., 0.],\n",
       "       [0., 0., 0., ..., 0., 1., 0.]], dtype=float32)"
      ]
     },
     "execution_count": 16,
     "metadata": {},
     "output_type": "execute_result"
    }
   ],
   "source": [
    "Y_train"
   ]
  },
  {
   "cell_type": "code",
   "execution_count": 17,
   "metadata": {
    "colab": {
     "base_uri": "https://localhost:8080/",
     "height": 417
    },
    "colab_type": "code",
    "executionInfo": {
     "elapsed": 1462,
     "status": "error",
     "timestamp": 1576875215354,
     "user": {
      "displayName": "GAURAV PATEL",
      "photoUrl": "",
      "userId": "12684871314975558822"
     },
     "user_tz": -330
    },
    "id": "9JKlqi9dFgzm",
    "outputId": "cc7f0ed2-f2c7-4337-ab57-78ee76ee3b77"
   },
   "outputs": [],
   "source": [
    "test = pd.read_csv('sign_mnist_test.csv')"
   ]
  },
  {
   "cell_type": "code",
   "execution_count": 18,
   "metadata": {
    "colab": {
     "base_uri": "https://localhost:8080/",
     "height": 180
    },
    "colab_type": "code",
    "executionInfo": {
     "elapsed": 1542,
     "status": "error",
     "timestamp": 1576875224837,
     "user": {
      "displayName": "GAURAV PATEL",
      "photoUrl": "",
      "userId": "12684871314975558822"
     },
     "user_tz": -330
    },
    "id": "7yZAsxrgFkO-",
    "outputId": "de6298a0-ef58-4fc9-fb3f-6e6f8444aa15"
   },
   "outputs": [
    {
     "data": {
      "text/html": [
       "<div>\n",
       "<style scoped>\n",
       "    .dataframe tbody tr th:only-of-type {\n",
       "        vertical-align: middle;\n",
       "    }\n",
       "\n",
       "    .dataframe tbody tr th {\n",
       "        vertical-align: top;\n",
       "    }\n",
       "\n",
       "    .dataframe thead th {\n",
       "        text-align: right;\n",
       "    }\n",
       "</style>\n",
       "<table border=\"1\" class=\"dataframe\">\n",
       "  <thead>\n",
       "    <tr style=\"text-align: right;\">\n",
       "      <th></th>\n",
       "      <th>label</th>\n",
       "      <th>pixel1</th>\n",
       "      <th>pixel2</th>\n",
       "      <th>pixel3</th>\n",
       "      <th>pixel4</th>\n",
       "      <th>pixel5</th>\n",
       "      <th>pixel6</th>\n",
       "      <th>pixel7</th>\n",
       "      <th>pixel8</th>\n",
       "      <th>pixel9</th>\n",
       "      <th>...</th>\n",
       "      <th>pixel775</th>\n",
       "      <th>pixel776</th>\n",
       "      <th>pixel777</th>\n",
       "      <th>pixel778</th>\n",
       "      <th>pixel779</th>\n",
       "      <th>pixel780</th>\n",
       "      <th>pixel781</th>\n",
       "      <th>pixel782</th>\n",
       "      <th>pixel783</th>\n",
       "      <th>pixel784</th>\n",
       "    </tr>\n",
       "  </thead>\n",
       "  <tbody>\n",
       "    <tr>\n",
       "      <th>0</th>\n",
       "      <td>6</td>\n",
       "      <td>149</td>\n",
       "      <td>149</td>\n",
       "      <td>150</td>\n",
       "      <td>150</td>\n",
       "      <td>150</td>\n",
       "      <td>151</td>\n",
       "      <td>151</td>\n",
       "      <td>150</td>\n",
       "      <td>151</td>\n",
       "      <td>...</td>\n",
       "      <td>138</td>\n",
       "      <td>148</td>\n",
       "      <td>127</td>\n",
       "      <td>89</td>\n",
       "      <td>82</td>\n",
       "      <td>96</td>\n",
       "      <td>106</td>\n",
       "      <td>112</td>\n",
       "      <td>120</td>\n",
       "      <td>107</td>\n",
       "    </tr>\n",
       "    <tr>\n",
       "      <th>1</th>\n",
       "      <td>5</td>\n",
       "      <td>126</td>\n",
       "      <td>128</td>\n",
       "      <td>131</td>\n",
       "      <td>132</td>\n",
       "      <td>133</td>\n",
       "      <td>134</td>\n",
       "      <td>135</td>\n",
       "      <td>135</td>\n",
       "      <td>136</td>\n",
       "      <td>...</td>\n",
       "      <td>47</td>\n",
       "      <td>104</td>\n",
       "      <td>194</td>\n",
       "      <td>183</td>\n",
       "      <td>186</td>\n",
       "      <td>184</td>\n",
       "      <td>184</td>\n",
       "      <td>184</td>\n",
       "      <td>182</td>\n",
       "      <td>180</td>\n",
       "    </tr>\n",
       "    <tr>\n",
       "      <th>2</th>\n",
       "      <td>10</td>\n",
       "      <td>85</td>\n",
       "      <td>88</td>\n",
       "      <td>92</td>\n",
       "      <td>96</td>\n",
       "      <td>105</td>\n",
       "      <td>123</td>\n",
       "      <td>135</td>\n",
       "      <td>143</td>\n",
       "      <td>147</td>\n",
       "      <td>...</td>\n",
       "      <td>68</td>\n",
       "      <td>166</td>\n",
       "      <td>242</td>\n",
       "      <td>227</td>\n",
       "      <td>230</td>\n",
       "      <td>227</td>\n",
       "      <td>226</td>\n",
       "      <td>225</td>\n",
       "      <td>224</td>\n",
       "      <td>222</td>\n",
       "    </tr>\n",
       "    <tr>\n",
       "      <th>3</th>\n",
       "      <td>0</td>\n",
       "      <td>203</td>\n",
       "      <td>205</td>\n",
       "      <td>207</td>\n",
       "      <td>206</td>\n",
       "      <td>207</td>\n",
       "      <td>209</td>\n",
       "      <td>210</td>\n",
       "      <td>209</td>\n",
       "      <td>210</td>\n",
       "      <td>...</td>\n",
       "      <td>154</td>\n",
       "      <td>248</td>\n",
       "      <td>247</td>\n",
       "      <td>248</td>\n",
       "      <td>253</td>\n",
       "      <td>236</td>\n",
       "      <td>230</td>\n",
       "      <td>240</td>\n",
       "      <td>253</td>\n",
       "      <td>255</td>\n",
       "    </tr>\n",
       "    <tr>\n",
       "      <th>4</th>\n",
       "      <td>3</td>\n",
       "      <td>188</td>\n",
       "      <td>191</td>\n",
       "      <td>193</td>\n",
       "      <td>195</td>\n",
       "      <td>199</td>\n",
       "      <td>201</td>\n",
       "      <td>202</td>\n",
       "      <td>203</td>\n",
       "      <td>203</td>\n",
       "      <td>...</td>\n",
       "      <td>26</td>\n",
       "      <td>40</td>\n",
       "      <td>64</td>\n",
       "      <td>48</td>\n",
       "      <td>29</td>\n",
       "      <td>46</td>\n",
       "      <td>49</td>\n",
       "      <td>46</td>\n",
       "      <td>46</td>\n",
       "      <td>53</td>\n",
       "    </tr>\n",
       "  </tbody>\n",
       "</table>\n",
       "<p>5 rows × 785 columns</p>\n",
       "</div>"
      ],
      "text/plain": [
       "   label  pixel1  pixel2  pixel3  pixel4  pixel5  pixel6  pixel7  pixel8  \\\n",
       "0      6     149     149     150     150     150     151     151     150   \n",
       "1      5     126     128     131     132     133     134     135     135   \n",
       "2     10      85      88      92      96     105     123     135     143   \n",
       "3      0     203     205     207     206     207     209     210     209   \n",
       "4      3     188     191     193     195     199     201     202     203   \n",
       "\n",
       "   pixel9  ...  pixel775  pixel776  pixel777  pixel778  pixel779  pixel780  \\\n",
       "0     151  ...       138       148       127        89        82        96   \n",
       "1     136  ...        47       104       194       183       186       184   \n",
       "2     147  ...        68       166       242       227       230       227   \n",
       "3     210  ...       154       248       247       248       253       236   \n",
       "4     203  ...        26        40        64        48        29        46   \n",
       "\n",
       "   pixel781  pixel782  pixel783  pixel784  \n",
       "0       106       112       120       107  \n",
       "1       184       184       182       180  \n",
       "2       226       225       224       222  \n",
       "3       230       240       253       255  \n",
       "4        49        46        46        53  \n",
       "\n",
       "[5 rows x 785 columns]"
      ]
     },
     "execution_count": 18,
     "metadata": {},
     "output_type": "execute_result"
    }
   ],
   "source": [
    "test.head()"
   ]
  },
  {
   "cell_type": "code",
   "execution_count": 19,
   "metadata": {
    "colab": {
     "base_uri": "https://localhost:8080/",
     "height": 180
    },
    "colab_type": "code",
    "executionInfo": {
     "elapsed": 2339,
     "status": "error",
     "timestamp": 1576875239617,
     "user": {
      "displayName": "GAURAV PATEL",
      "photoUrl": "",
      "userId": "12684871314975558822"
     },
     "user_tz": -330
    },
    "id": "lLQQmp1XFmhN",
    "outputId": "78ff5d05-3e6f-4ecf-ae15-a5cbf2a8dd50"
   },
   "outputs": [],
   "source": [
    "X_test = np.array(test)"
   ]
  },
  {
   "cell_type": "code",
   "execution_count": 20,
   "metadata": {
    "colab": {
     "base_uri": "https://localhost:8080/",
     "height": 180
    },
    "colab_type": "code",
    "executionInfo": {
     "elapsed": 2327,
     "status": "error",
     "timestamp": 1576875248554,
     "user": {
      "displayName": "GAURAV PATEL",
      "photoUrl": "",
      "userId": "12684871314975558822"
     },
     "user_tz": -330
    },
    "id": "6ekNnFS9Fp7F",
    "outputId": "06460054-8e4f-4ba6-bd65-217ffb5f8afc"
   },
   "outputs": [
    {
     "data": {
      "text/plain": [
       "(7172, 785)"
      ]
     },
     "execution_count": 20,
     "metadata": {},
     "output_type": "execute_result"
    }
   ],
   "source": [
    "X_test.shape"
   ]
  },
  {
   "cell_type": "code",
   "execution_count": 21,
   "metadata": {
    "colab": {
     "base_uri": "https://localhost:8080/",
     "height": 180
    },
    "colab_type": "code",
    "executionInfo": {
     "elapsed": 2033,
     "status": "error",
     "timestamp": 1576875255553,
     "user": {
      "displayName": "GAURAV PATEL",
      "photoUrl": "",
      "userId": "12684871314975558822"
     },
     "user_tz": -330
    },
    "id": "H_ngtjPUFsHl",
    "outputId": "a7f4abea-e452-4020-df02-3e65e576e42a"
   },
   "outputs": [
    {
     "data": {
      "text/plain": [
       "array([[  6, 149, 149, ..., 112, 120, 107],\n",
       "       [  5, 126, 128, ..., 184, 182, 180],\n",
       "       [ 10,  85,  88, ..., 225, 224, 222],\n",
       "       ...,\n",
       "       [  2, 190, 191, ..., 211, 209, 208],\n",
       "       [  4, 201, 205, ...,  67,  70,  63],\n",
       "       [  2, 173, 174, ..., 195, 193, 192]], dtype=int64)"
      ]
     },
     "execution_count": 21,
     "metadata": {},
     "output_type": "execute_result"
    }
   ],
   "source": [
    "X_test"
   ]
  },
  {
   "cell_type": "code",
   "execution_count": 22,
   "metadata": {
    "colab": {
     "base_uri": "https://localhost:8080/",
     "height": 180
    },
    "colab_type": "code",
    "executionInfo": {
     "elapsed": 1276,
     "status": "error",
     "timestamp": 1576875262901,
     "user": {
      "displayName": "GAURAV PATEL",
      "photoUrl": "",
      "userId": "12684871314975558822"
     },
     "user_tz": -330
    },
    "id": "QvtclxE4Ft55",
    "outputId": "b2e894ca-0d3e-4b30-b8de-49695228112b"
   },
   "outputs": [],
   "source": [
    "Y_test = np.array(test['label'])"
   ]
  },
  {
   "cell_type": "code",
   "execution_count": 23,
   "metadata": {
    "colab": {
     "base_uri": "https://localhost:8080/",
     "height": 180
    },
    "colab_type": "code",
    "executionInfo": {
     "elapsed": 1194,
     "status": "error",
     "timestamp": 1576875273275,
     "user": {
      "displayName": "GAURAV PATEL",
      "photoUrl": "",
      "userId": "12684871314975558822"
     },
     "user_tz": -330
    },
    "id": "za0sHeEQFv5E",
    "outputId": "2248db1c-294b-4f9e-8a75-6e73c39e77e3"
   },
   "outputs": [],
   "source": [
    "Y_test = to_categorical(Y_test)"
   ]
  },
  {
   "cell_type": "code",
   "execution_count": 24,
   "metadata": {
    "colab": {
     "base_uri": "https://localhost:8080/",
     "height": 180
    },
    "colab_type": "code",
    "executionInfo": {
     "elapsed": 1981,
     "status": "error",
     "timestamp": 1576875280369,
     "user": {
      "displayName": "GAURAV PATEL",
      "photoUrl": "",
      "userId": "12684871314975558822"
     },
     "user_tz": -330
    },
    "id": "udJy2kZMFya4",
    "outputId": "d45bbc63-564a-4f46-ca6c-4dc542734a81"
   },
   "outputs": [],
   "source": [
    "X_test = X_test[:,1:]"
   ]
  },
  {
   "cell_type": "code",
   "execution_count": 25,
   "metadata": {
    "colab": {
     "base_uri": "https://localhost:8080/",
     "height": 180
    },
    "colab_type": "code",
    "executionInfo": {
     "elapsed": 2264,
     "status": "error",
     "timestamp": 1576875290546,
     "user": {
      "displayName": "GAURAV PATEL",
      "photoUrl": "",
      "userId": "12684871314975558822"
     },
     "user_tz": -330
    },
    "id": "dphaUaPLFz-b",
    "outputId": "fdcd2254-3f32-4f49-f458-f94693368afb"
   },
   "outputs": [
    {
     "data": {
      "text/plain": [
       "(7172, 784)"
      ]
     },
     "execution_count": 25,
     "metadata": {},
     "output_type": "execute_result"
    }
   ],
   "source": [
    "X_test.shape"
   ]
  },
  {
   "cell_type": "code",
   "execution_count": 26,
   "metadata": {
    "colab": {
     "base_uri": "https://localhost:8080/",
     "height": 180
    },
    "colab_type": "code",
    "executionInfo": {
     "elapsed": 1200,
     "status": "error",
     "timestamp": 1576875296657,
     "user": {
      "displayName": "GAURAV PATEL",
      "photoUrl": "",
      "userId": "12684871314975558822"
     },
     "user_tz": -330
    },
    "id": "3rMjXs16F2X7",
    "outputId": "332fbb57-f4c7-4153-c4d6-8830421ee6f4"
   },
   "outputs": [],
   "source": [
    "X_test = X_test/255"
   ]
  },
  {
   "cell_type": "code",
   "execution_count": 27,
   "metadata": {
    "colab": {
     "base_uri": "https://localhost:8080/",
     "height": 180
    },
    "colab_type": "code",
    "executionInfo": {
     "elapsed": 913,
     "status": "error",
     "timestamp": 1576875302981,
     "user": {
      "displayName": "GAURAV PATEL",
      "photoUrl": "",
      "userId": "12684871314975558822"
     },
     "user_tz": -330
    },
    "id": "sgT3IKtIF4JR",
    "outputId": "d6341b37-2944-4a99-c723-fc09685c2438"
   },
   "outputs": [],
   "source": [
    "X_test = np.reshape(X_test,(7172,28,28,1))"
   ]
  },
  {
   "cell_type": "code",
   "execution_count": 28,
   "metadata": {
    "colab": {
     "base_uri": "https://localhost:8080/",
     "height": 200
    },
    "colab_type": "code",
    "executionInfo": {
     "elapsed": 1506,
     "status": "error",
     "timestamp": 1576875318812,
     "user": {
      "displayName": "GAURAV PATEL",
      "photoUrl": "",
      "userId": "12684871314975558822"
     },
     "user_tz": -330
    },
    "id": "cm0ByAJ5F7Yb",
    "outputId": "eedb0603-d898-4f35-fa3b-7177b2e8a73e"
   },
   "outputs": [
    {
     "name": "stdout",
     "output_type": "stream",
     "text": [
      "(27455, 28, 28, 1) \t (27455, 25)\n",
      "(7172, 28, 28, 1) \t (7172, 25)\n"
     ]
    }
   ],
   "source": [
    "print(X_train.shape,'\\t',Y_train.shape)\n",
    "print(X_test.shape,'\\t',Y_test.shape)"
   ]
  },
  {
   "cell_type": "code",
   "execution_count": 29,
   "metadata": {
    "colab": {
     "base_uri": "https://localhost:8080/",
     "height": 192
    },
    "colab_type": "code",
    "executionInfo": {
     "elapsed": 2282,
     "status": "ok",
     "timestamp": 1576875330636,
     "user": {
      "displayName": "GAURAV PATEL",
      "photoUrl": "",
      "userId": "12684871314975558822"
     },
     "user_tz": -330
    },
    "id": "Q0Zb7hLcF9dI",
    "outputId": "e91621df-9161-44ea-a546-16c2dc41ce21"
   },
   "outputs": [
    {
     "name": "stderr",
     "output_type": "stream",
     "text": [
      "WARNING: Logging before flag parsing goes to stderr.\n",
      "W1221 15:06:23.796979 11044 deprecation_wrapper.py:119] From g:\\anaconda3\\envs\\tf_gpu\\lib\\site-packages\\keras\\backend\\tensorflow_backend.py:4070: The name tf.nn.max_pool is deprecated. Please use tf.nn.max_pool2d instead.\n",
      "\n"
     ]
    }
   ],
   "source": [
    "# Fitting CNN\n",
    "\n",
    "model = Sequential()\n",
    "model.add(Conv2D(8, kernel_size=5, activation='relu', input_shape=(28,28,1)))\n",
    "model.add(MaxPooling2D(pool_size=(2,2)))\n",
    "\n",
    "model.add(Conv2D(16, kernel_size=3, activation='relu'))\n",
    "model.add(MaxPooling2D(pool_size=(2,2)))\n",
    "\n",
    "model.add(Flatten())\n",
    "model.add(Dense(25, activation='softmax'))"
   ]
  },
  {
   "cell_type": "code",
   "execution_count": 30,
   "metadata": {
    "colab": {
     "base_uri": "https://localhost:8080/",
     "height": 114
    },
    "colab_type": "code",
    "executionInfo": {
     "elapsed": 1164,
     "status": "ok",
     "timestamp": 1576875335432,
     "user": {
      "displayName": "GAURAV PATEL",
      "photoUrl": "",
      "userId": "12684871314975558822"
     },
     "user_tz": -330
    },
    "id": "KZAdOEcMGAKS",
    "outputId": "1b7a5fb8-b4ec-49cf-bd36-f44b05ae78e9"
   },
   "outputs": [],
   "source": [
    "model.compile(optimizer='Adam', loss='categorical_crossentropy', metrics=['accuracy'])"
   ]
  },
  {
   "cell_type": "code",
   "execution_count": 31,
   "metadata": {
    "colab": {
     "base_uri": "https://localhost:8080/",
     "height": 180
    },
    "colab_type": "code",
    "executionInfo": {
     "elapsed": 1178,
     "status": "error",
     "timestamp": 1576875341719,
     "user": {
      "displayName": "GAURAV PATEL",
      "photoUrl": "",
      "userId": "12684871314975558822"
     },
     "user_tz": -330
    },
    "id": "Jz5e_hk8GBnl",
    "outputId": "d331d3e8-a304-439e-e2d4-c2afe94af570"
   },
   "outputs": [
    {
     "name": "stderr",
     "output_type": "stream",
     "text": [
      "W1221 15:06:26.921630 11044 deprecation_wrapper.py:119] From g:\\anaconda3\\envs\\tf_gpu\\lib\\site-packages\\keras\\backend\\tensorflow_backend.py:422: The name tf.global_variables is deprecated. Please use tf.compat.v1.global_variables instead.\n",
      "\n"
     ]
    },
    {
     "name": "stdout",
     "output_type": "stream",
     "text": [
      "Train on 18394 samples, validate on 9061 samples\n",
      "Epoch 1/7\n",
      "18394/18394 [==============================] - 58s 3ms/step - loss: 1.5682 - accuracy: 0.5569 - val_loss: 0.6789 - val_accuracy: 0.8081\n",
      "Epoch 2/7\n",
      "18394/18394 [==============================] - 49s 3ms/step - loss: 0.4672 - accuracy: 0.8662 - val_loss: 0.3382 - val_accuracy: 0.9072\n",
      "Epoch 3/7\n",
      "18394/18394 [==============================] - 58s 3ms/step - loss: 0.2210 - accuracy: 0.9458 - val_loss: 0.1459 - val_accuracy: 0.9742\n",
      "Epoch 4/7\n",
      "18394/18394 [==============================] - 55s 3ms/step - loss: 0.1040 - accuracy: 0.9805 - val_loss: 0.0745 - val_accuracy: 0.9903\n",
      "Epoch 5/7\n",
      "18394/18394 [==============================] - 58s 3ms/step - loss: 0.0481 - accuracy: 0.9962 - val_loss: 0.0320 - val_accuracy: 0.9994\n",
      "Epoch 6/7\n",
      "18394/18394 [==============================] - 52s 3ms/step - loss: 0.0255 - accuracy: 0.9994 - val_loss: 0.0186 - val_accuracy: 0.9997\n",
      "Epoch 7/7\n",
      "18394/18394 [==============================] - 57s 3ms/step - loss: 0.0141 - accuracy: 0.9996 - val_loss: 0.0129 - val_accuracy: 0.9989\n"
     ]
    }
   ],
   "source": [
    "history = model.fit(X_train, Y_train,validation_split = 0.33, epochs=7, verbose=1)"
   ]
  },
  {
   "cell_type": "code",
   "execution_count": 32,
   "metadata": {
    "colab": {
     "base_uri": "https://localhost:8080/",
     "height": 180
    },
    "colab_type": "code",
    "executionInfo": {
     "elapsed": 1212,
     "status": "error",
     "timestamp": 1576875347405,
     "user": {
      "displayName": "GAURAV PATEL",
      "photoUrl": "",
      "userId": "12684871314975558822"
     },
     "user_tz": -330
    },
    "id": "MQ5RjCd8GDJx",
    "outputId": "71be71c8-5fb6-48d4-aa80-4aa157309d76"
   },
   "outputs": [
    {
     "name": "stdout",
     "output_type": "stream",
     "text": [
      "7172/7172 [==============================] - 15s 2ms/step\n"
     ]
    },
    {
     "data": {
      "text/plain": [
       "[0.5805380787768978, 0.8577802777290344]"
      ]
     },
     "execution_count": 32,
     "metadata": {},
     "output_type": "execute_result"
    }
   ],
   "source": [
    "model.evaluate(X_test,Y_test)"
   ]
  },
  {
   "cell_type": "code",
   "execution_count": 33,
   "metadata": {
    "colab": {
     "base_uri": "https://localhost:8080/",
     "height": 258
    },
    "colab_type": "code",
    "executionInfo": {
     "elapsed": 3019,
     "status": "error",
     "timestamp": 1576875357509,
     "user": {
      "displayName": "GAURAV PATEL",
      "photoUrl": "",
      "userId": "12684871314975558822"
     },
     "user_tz": -330
    },
    "id": "xYvukkjfGEiS",
    "outputId": "c0c3ecdf-4984-4d98-fa0c-5e31b8e4337e"
   },
   "outputs": [
    {
     "data": {
      "text/plain": [
       "<matplotlib.legend.Legend at 0x27cd24b7a08>"
      ]
     },
     "execution_count": 33,
     "metadata": {},
     "output_type": "execute_result"
    },
    {
     "data": {
      "image/png": "[encoded data removed]",
      "text/plain": [
       "<Figure size 432x288 with 1 Axes>"
      ]
     },
     "metadata": {
      "needs_background": "light"
     },
     "output_type": "display_data"
    }
   ],
   "source": [
    "plt.plot(history.history['accuracy'])\n",
    "plt.plot(history.history['loss'])\n",
    "plt.plot(history.history['val_accuracy'])\n",
    "plt.plot(history.history['val_loss'])\n",
    "plt.xlabel('Epochs')\n",
    "plt.ylabel('Values for Accuracy and Loss')\n",
    "plt.legend(['Training Accuracy','Training Loss','Validation Accuracy','Validation Loss'])"
   ]
  },
  {
   "cell_type": "code",
   "execution_count": 34,
   "metadata": {
    "colab": {
     "base_uri": "https://localhost:8080/",
     "height": 482
    },
    "colab_type": "code",
    "executionInfo": {
     "elapsed": 1363,
     "status": "ok",
     "timestamp": 1576875362649,
     "user": {
      "displayName": "GAURAV PATEL",
      "photoUrl": "",
      "userId": "12684871314975558822"
     },
     "user_tz": -330
    },
    "id": "_2WEtKbNGGiw",
    "outputId": "175c9915-c528-49dc-983a-4d1bc18726de"
   },
   "outputs": [
    {
     "name": "stdout",
     "output_type": "stream",
     "text": [
      "Model: \"sequential_1\"\n",
      "_________________________________________________________________\n",
      "Layer (type)                 Output Shape              Param #   \n",
      "=================================================================\n",
      "conv2d_1 (Conv2D)            (None, 24, 24, 8)         208       \n",
      "_________________________________________________________________\n",
      "max_pooling2d_1 (MaxPooling2 (None, 12, 12, 8)         0         \n",
      "_________________________________________________________________\n",
      "conv2d_2 (Conv2D)            (None, 10, 10, 16)        1168      \n",
      "_________________________________________________________________\n",
      "max_pooling2d_2 (MaxPooling2 (None, 5, 5, 16)          0         \n",
      "_________________________________________________________________\n",
      "flatten_1 (Flatten)          (None, 400)               0         \n",
      "_________________________________________________________________\n",
      "dense_1 (Dense)              (None, 25)                10025     \n",
      "=================================================================\n",
      "Total params: 11,401\n",
      "Trainable params: 11,401\n",
      "Non-trainable params: 0\n",
      "_________________________________________________________________\n"
     ]
    }
   ],
   "source": [
    "model.summary()"
   ]
  },
  {
   "cell_type": "code",
   "execution_count": 36,
   "metadata": {
    "colab": {
     "base_uri": "https://localhost:8080/",
     "height": 482
    },
    "colab_type": "code",
    "executionInfo": {
     "elapsed": 1357,
     "status": "ok",
     "timestamp": 1576875367864,
     "user": {
      "displayName": "GAURAV PATEL",
      "photoUrl": "",
      "userId": "12684871314975558822"
     },
     "user_tz": -330
    },
    "id": "DE_wmL57GINY",
    "outputId": "363c3672-ab0d-4952-9190-862abb8ce768"
   },
   "outputs": [],
   "source": [
    "model.save(\"Sign-language-MNIST_Trained_Model.h5\")"
   ]
  },
  {
   "cell_type": "code",
   "execution_count": null,
   "metadata": {},
   "outputs": [],
   "source": []
  }
 ],
 "metadata": {
  "colab": {
   "name": "sign-lang_mnist.ipynb",
   "provenance": []
  },
  "kernelspec": {
   "display_name": "Python 3",
   "language": "python",
   "name": "python3"
  },
  "language_info": {
   "codemirror_mode": {
    "name": "ipython",
    "version": 3
   },
   "file_extension": ".py",
   "mimetype": "text/x-python",
   "name": "python",
   "nbconvert_exporter": "python",
   "pygments_lexer": "ipython3",
   "version": "3.7.4"
  }
 },
 "nbformat": 4,
 "nbformat_minor": 1
}
